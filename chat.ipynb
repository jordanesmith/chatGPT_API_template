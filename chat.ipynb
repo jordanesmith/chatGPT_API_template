{
 "cells": [
  {
   "cell_type": "code",
   "execution_count": 3,
   "id": "bb7e88b7-5f86-4631-be83-2c9bf3aa6d3c",
   "metadata": {},
   "outputs": [],
   "source": [
    "import os\n",
    "import openai\n",
    "import time \n",
    "from tqdm import tqdm"
   ]
  },
  {
   "cell_type": "code",
   "execution_count": 4,
   "id": "8d8a27f8-e588-423f-82c0-cd2cb757b16a",
   "metadata": {},
   "outputs": [],
   "source": [
    "key_file = open(\"api_key.txt\", \"r\")\n",
    "api_key = key_file.read()\n",
    "key_file.close()\n",
    "\n",
    "key_file = open(\"organisation_key.txt\", \"r\")\n",
    "org_key = key_file.read()\n",
    "key_file.close()\n"
   ]
  },
  {
   "cell_type": "code",
   "execution_count": 5,
   "id": "99134cfd-4f1e-45f4-a500-b5431f1b414e",
   "metadata": {},
   "outputs": [],
   "source": [
    "openai.organization = org_key\n",
    "openai.api_key = api_key"
   ]
  },
  {
   "cell_type": "code",
   "execution_count": 22,
   "id": "eef1bae5",
   "metadata": {},
   "outputs": [],
   "source": [
    "def generate_prompts(specific_prompt):\n",
    "    \n",
    "    system_prompt = \"\"\" \\\n",
    "        You are a helpful writing assistant. I have a presentation to make, \n",
    "        and I need you to help me generate text content to publicise it.\n",
    "        \"\"\"\n",
    "        \n",
    "\n",
    "\n",
    "    user_prompt = f\"\"\" \\\n",
    "        My presentation is on Green Machine Learning (GreenML). I will be \n",
    "        discussing the environmental damage of ML applications, such as large \n",
    "        language models such as GPTs, and an analysis of the areas that ML \n",
    "        solutions create emmissions. I will use terminology such as the \n",
    "        Green House Gas Protocol (GHGP) scope 1/2/3 emmissions to analyse \n",
    "        these emmisions, and how they apply to ML workloads. I want to \n",
    "        discuss the options to measure and reduce the emmissions of ML \n",
    "        workloads such as training, inference/ serving workloads. These \n",
    "        options include methods that solutions can employ, and third party \n",
    "        tooling available. The The target audience is both developers/ Data \n",
    "        scientists building ML solutions, through to all levels of the \n",
    "        company such as senior levels of management who want insight \n",
    "        into their corporate carbon footpring, and where to reduce it, or even \n",
    "        just how to stay ahead of the curve and may be concerned with \n",
    "        incoming climate legislation on corperations. \n",
    "        \n",
    "        please answer these questions for me: \n",
    "        {specific_prompt}\n",
    "        \"\"\"\n",
    "        \n",
    "    return system_prompt, user_prompt\n",
    "        \n",
    "    \n",
    "specific_prompt = \"\"\"\\\n",
    "Who is your audience and what are the key takeaways for them? *\n",
    "List 4 lines/bullet points to explain what attendees will learn\n",
    "    \"\"\"    \n",
    "system_prompt, user_prompt = generate_prompts(specific_prompt)"
   ]
  },
  {
   "cell_type": "markdown",
   "id": "76a8fa1b",
   "metadata": {},
   "source": []
  },
  {
   "cell_type": "code",
   "execution_count": 23,
   "id": "ef27f6b4-685e-4109-ae5c-83621fc45f9f",
   "metadata": {},
   "outputs": [
    {
     "name": "stdout",
     "output_type": "stream",
     "text": [
      "Audience: Developers, Data Scientists, and Senior Management interested in mitigating the environmental impact of ML applications.\n",
      "\n",
      "Key Takeaways for Attendees:\n",
      "\n",
      "1. An understanding of the environmental impact of ML applications, including analysis of GHGP scope 1/2/3 emissions for ML workloads.\n",
      "2. An overview of options and methods available to measure and reduce emissions for ML training and inference/serving workloads.\n",
      "3. Knowledge of third-party tooling available to aid in measuring and reducing emissions for ML workloads.\n",
      "4. Insights into how to stay ahead of incoming climate legislation and mitigate corporate carbon footprint through the adoption of GreenML practices.\n"
     ]
    }
   ],
   "source": [
    "response = openai.ChatCompletion.create(model=\"gpt-3.5-turbo\",\n",
    "                                            messages=[\n",
    "                                                {\"role\": \"system\",\n",
    "                                                    \"content\": system_prompt, \n",
    "                                                # {\"role\": \"user\",\n",
    "                                                #     \"content\": \"Who won the world series in 2020?\"},\n",
    "                                                # {\"role\": \"assistant\",\n",
    "                                                #     \"content\": \"The Los Angeles Dodgers won the World Series in 2020.\"},\n",
    "                                                \"role\": \"user\",\n",
    "                                                    \"content\": user_prompt}\n",
    "                                            ]\n",
    "\n",
    "                                      )\n",
    "response_string = str(response[\"choices\"][0][\"message\"].to_dict()[\"content\"])\n",
    "print(response_string)\n",
    "\n"
   ]
  },
  {
   "cell_type": "code",
   "execution_count": null,
   "id": "369c1828",
   "metadata": {},
   "outputs": [],
   "source": []
  }
 ],
 "metadata": {
  "kernelspec": {
   "display_name": "base",
   "language": "python",
   "name": "python3"
  },
  "language_info": {
   "codemirror_mode": {
    "name": "ipython",
    "version": 3
   },
   "file_extension": ".py",
   "mimetype": "text/x-python",
   "name": "python",
   "nbconvert_exporter": "python",
   "pygments_lexer": "ipython3",
   "version": "3.9.13"
  },
  "vscode": {
   "interpreter": {
    "hash": "84ada624dcf1b2fe0a1ed325e4e6385737bb781e86ac15005b6e2a45031912cb"
   }
  }
 },
 "nbformat": 4,
 "nbformat_minor": 5
}
